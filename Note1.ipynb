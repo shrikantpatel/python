{
 "cells": [
  {
   "cell_type": "code",
   "execution_count": null,
   "metadata": {},
   "outputs": [],
   "source": [
    "name = \"shrikant\"\n",
    "print(\"hello\", name);"
   ]
  },
  {
   "cell_type": "code",
   "execution_count": null,
   "metadata": {},
   "outputs": [],
   "source": [
    "class Parent():\n",
    "    \n",
    "    def __init__(self):\n",
    "        self.a = 1\n",
    "        self._b = 2\n",
    "        self.__c = 3\n",
    "\n",
    "obj1 = Parent()\n",
    "#dir(obj1)\n",
    "\n",
    "class Children(Parent):\n",
    "    def __init__(self):\n",
    "        super().__init__()\n",
    "        self.a = \"overridden\"\n",
    "        self._b = \"overridden\"\n",
    "        self.__c = \"overridden\"\n",
    "\n",
    "obj2 = Children()\n",
    "dir(obj2)"
   ]
  },
  {
   "cell_type": "code",
   "execution_count": 50,
   "metadata": {},
   "outputs": [
    {
     "name": "stdout",
     "output_type": "stream",
     "text": [
      "0\n",
      "1\n",
      "2\n",
      "3\n",
      "4\n",
      "5\n",
      "6\n",
      "7\n",
      "8\n",
      "9\n"
     ]
    }
   ],
   "source": [
    "class Test:\n",
    "    def printNumber(self) :\n",
    "        for _ in range(10) :\n",
    "            print(_)\n",
    "\n",
    "obj = Test()\n",
    "obj.printNumber()"
   ]
  }
 ],
 "metadata": {
  "kernelspec": {
   "display_name": "Python 3",
   "language": "python",
   "name": "python3"
  },
  "language_info": {
   "codemirror_mode": {
    "name": "ipython",
    "version": 3
   },
   "file_extension": ".py",
   "mimetype": "text/x-python",
   "name": "python",
   "nbconvert_exporter": "python",
   "pygments_lexer": "ipython3",
   "version": "3.11.5"
  },
  "orig_nbformat": 4
 },
 "nbformat": 4,
 "nbformat_minor": 2
}
